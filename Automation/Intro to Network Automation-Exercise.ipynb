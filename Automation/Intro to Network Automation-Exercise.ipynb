{
 "cells": [
  {
   "cell_type": "markdown",
   "metadata": {},
   "source": [
    "### 1. SSH to the device and execute 'show hostname' command:"
   ]
  },
  {
   "cell_type": "code",
   "execution_count": 1,
   "metadata": {},
   "outputs": [],
   "source": [
    "from netmiko import ConnectHandler"
   ]
  },
  {
   "cell_type": "code",
   "execution_count": 2,
   "metadata": {},
   "outputs": [
    {
     "name": "stdout",
     "output_type": "stream",
     "text": [
      "Connected to the device!\n"
     ]
    }
   ],
   "source": [
    "try:\n",
    "    device_connection = ConnectHandler(\n",
    "        device_type = 'cisco_nxos',\n",
    "        ip = '127.0.0.1',\n",
    "        port = '2222',\n",
    "        username = 'admin',\n",
    "        password = 'Cisco!123'\n",
    "    )\n",
    "    print(\"Connected to the device!\")\n",
    "except:\n",
    "    print(\"Failure...\")"
   ]
  },
  {
   "cell_type": "code",
   "execution_count": 3,
   "metadata": {},
   "outputs": [],
   "source": [
    "ssh_output = device_connection.send_command(\"show hostname\")"
   ]
  },
  {
   "cell_type": "code",
   "execution_count": 4,
   "metadata": {},
   "outputs": [
    {
     "name": "stdout",
     "output_type": "stream",
     "text": [
      "Nexus9000v \n",
      "\n"
     ]
    }
   ],
   "source": [
    "print(ssh_output)"
   ]
  },
  {
   "cell_type": "code",
   "execution_count": 5,
   "metadata": {},
   "outputs": [],
   "source": [
    "device_connection.disconnect()"
   ]
  },
  {
   "cell_type": "markdown",
   "metadata": {},
   "source": [
    "### 2. Create NETCONF Request that will GET the Hostname of your device:"
   ]
  },
  {
   "cell_type": "markdown",
   "metadata": {},
   "source": [
    "* **ncclient** - Python library that facilitates scripting around the NETCONF protocol"
   ]
  },
  {
   "cell_type": "code",
   "execution_count": 1,
   "metadata": {},
   "outputs": [],
   "source": [
    "import ncclient\n",
    "from ncclient import manager\n",
    "from ncclient.operations import TimeoutExpiredError\n",
    "import xml.dom.minidom"
   ]
  },
  {
   "cell_type": "code",
   "execution_count": 4,
   "metadata": {},
   "outputs": [
    {
     "name": "stdout",
     "output_type": "stream",
     "text": [
      "Connected to the device!\n"
     ]
    }
   ],
   "source": [
    "try:\n",
    "    device_connection = ncclient.manager.connect(\n",
    "        host = '127.0.0.1',\n",
    "        port = 2222,\n",
    "        username='admin',\n",
    "        password='Cisco!123',\n",
    "        hostkey_verify=False,\n",
    "        device_params={'name': 'nexus'},\n",
    "        allow_agent=False,\n",
    "        look_for_keys=False\n",
    "    )\n",
    "    print(\"Connected to the device!\")\n",
    "except:\n",
    "    print(\"Failure...\")"
   ]
  },
  {
   "cell_type": "code",
   "execution_count": 5,
   "metadata": {},
   "outputs": [],
   "source": [
    "int_filter = '''\n",
    "                          <show xmlns=\"http://www.cisco.com/nxos:1.0\">\n",
    "                              <hostname>\n",
    "                              </hostname>\n",
    "                          </show>\n",
    "             '''"
   ]
  },
  {
   "cell_type": "markdown",
   "metadata": {},
   "source": [
    "And print the received **NETCONF Response** in an original **XML** format:"
   ]
  },
  {
   "cell_type": "code",
   "execution_count": 6,
   "metadata": {
    "scrolled": true
   },
   "outputs": [
    {
     "name": "stdout",
     "output_type": "stream",
     "text": [
      "<?xml version=\"1.0\" encoding=\"ISO-8859-1\"?>\n",
      "<rpc-reply xmlns:nxos=\"http://www.cisco.com/nxos:1.0\" xmlns:if=\"http://www.cisco.com/nxos:1.0:if_manager\" xmlns:nfcli=\"http://www.cisco.com/nxos:1.0:nfcli\" xmlns:vlan_mgr_cli=\"http://www.cisco.com/nxos:1.0:vlan_mgr_cli\" xmlns:mod=\"http://www.cisco.com/nxos:1.0:vdc_mgr\" message-id=\"urn:uuid:58b54e61-7593-4020-973b-5f157269594f\" xmlns=\"urn:ietf:params:xml:ns:netconf:base:1.0\">\n",
      " <data>\n",
      "  <mod:show>\n",
      "   <mod:__XML__BLK_Cmd_SHOW_HOSTNAME_hostname>\n",
      "    <mod:__XML__OPT_Cmd_SHOW_HOSTNAME___readonly__>\n",
      "     <mod:__readonly__>\n",
      "      <mod:hostname>Nexus9000v</mod:hostname>\n",
      "     </mod:__readonly__>\n",
      "    </mod:__XML__OPT_Cmd_SHOW_HOSTNAME___readonly__>\n",
      "   </mod:__XML__BLK_Cmd_SHOW_HOSTNAME_hostname>\n",
      "  </mod:show>\n",
      " </data>\n",
      "</rpc-reply>\n"
     ]
    }
   ],
   "source": [
    "netconf_output = device_connection.get(('subtree', int_filter))\n",
    "print(netconf_output)"
   ]
  },
  {
   "cell_type": "markdown",
   "metadata": {},
   "source": [
    " **Pass the XML result as a string to the parseString function**"
   ]
  },
  {
   "cell_type": "code",
   "execution_count": 7,
   "metadata": {},
   "outputs": [
    {
     "name": "stdout",
     "output_type": "stream",
     "text": [
      "Nexus9000v\n"
     ]
    }
   ],
   "source": [
    "        xml_doc = xml.dom.minidom.parseString(netconf_output.xml)\n",
    "        hostname = xml_doc.getElementsByTagName(\"mod:hostname\")\n",
    "        print(hostname[0].firstChild.nodeValue)"
   ]
  },
  {
   "cell_type": "markdown",
   "metadata": {},
   "source": [
    "### 3. Create NETCONF Request that will change the Hostname of your device to 'NEXUS':"
   ]
  },
  {
   "cell_type": "code",
   "execution_count": 23,
   "metadata": {},
   "outputs": [],
   "source": [
    "update_hostname = '''\n",
    "            <configure xmlns=\"http://www.cisco.com/nxos:1.0\">\n",
    "                <__XML__MODE__exec_configure>\n",
    "                    <hostname><name>%s</name></hostname>\n",
    "                </__XML__MODE__exec_configure>   \n",
    "            </configure>\n",
    "'''\n"
   ]
  },
  {
   "cell_type": "code",
   "execution_count": 24,
   "metadata": {},
   "outputs": [],
   "source": [
    "def update_config():\n",
    "    try:\n",
    "        device_connection = ncclient.manager.connect(\n",
    "            host = '127.0.0.1',\n",
    "            port = 2222,\n",
    "            username='admin',\n",
    "            password='Cisco!123',\n",
    "            hostkey_verify=False,\n",
    "            device_params={'name': 'nexus'},\n",
    "            allow_agent=False,\n",
    "            look_for_keys=False\n",
    "        )\n",
    "        print(\"Connected to the device!\")\n",
    "    except:\n",
    "        print(\"Failure...\")\n",
    "        \n",
    "    configuration = ''\n",
    "\n",
    "    try:\n",
    "        hostname = \"NEXUS\"\n",
    "        configuration += '<config>'\n",
    "        configuration += update_hostname %hostname\n",
    "        configuration += '</config>'\n",
    "        print(configuration)\n",
    "        device_connection.edit_config(target='running', config=configuration)\n",
    "        print(\"Config pushed successfuly!\")\n",
    "    except:\n",
    "        print(\"Something went wrong...\")"
   ]
  },
  {
   "cell_type": "code",
   "execution_count": 25,
   "metadata": {},
   "outputs": [
    {
     "name": "stdout",
     "output_type": "stream",
     "text": [
      "Connected to the device!\n",
      "<config>\n",
      "            <configure xmlns=\"http://www.cisco.com/nxos:1.0\">\n",
      "                <__XML__MODE__exec_configure>\n",
      "                    <hostname><name>NEXUS</name></hostname>\n",
      "                </__XML__MODE__exec_configure>   \n",
      "            </configure>\n",
      "</config>\n",
      "Config pushed successfuly!\n"
     ]
    }
   ],
   "source": [
    " update_config()"
   ]
  }
 ],
 "metadata": {
  "kernelspec": {
   "display_name": "Python 3",
   "language": "python",
   "name": "python3"
  },
  "language_info": {
   "codemirror_mode": {
    "name": "ipython",
    "version": 3
   },
   "file_extension": ".py",
   "mimetype": "text/x-python",
   "name": "python",
   "nbconvert_exporter": "python",
   "pygments_lexer": "ipython3",
   "version": "3.8.1"
  }
 },
 "nbformat": 4,
 "nbformat_minor": 4
}
